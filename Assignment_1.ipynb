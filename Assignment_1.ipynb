{
  "nbformat": 4,
  "nbformat_minor": 0,
  "metadata": {
    "colab": {
      "name": "Assignment_1.ipynb",
      "provenance": [],
      "authorship_tag": "ABX9TyNxxAuD9mc9pcfcMHR7VZIz",
      "include_colab_link": true
    },
    "kernelspec": {
      "name": "python3",
      "display_name": "Python 3"
    },
    "language_info": {
      "name": "python"
    }
  },
  "cells": [
    {
      "cell_type": "markdown",
      "metadata": {
        "id": "view-in-github",
        "colab_type": "text"
      },
      "source": [
        "<a href=\"https://colab.research.google.com/github/viboo27/ML/blob/main/Assignment_1.ipynb\" target=\"_parent\"><img src=\"https://colab.research.google.com/assets/colab-badge.svg\" alt=\"Open In Colab\"/></a>"
      ]
    },
    {
      "cell_type": "code",
      "source": [
        "#importing library\n",
        "\n",
        "import pandas as pd\n",
        "import numpy as np\n",
        "import matplotlib.pyplot as plt\n",
        "from sklearn.linear_model import LinearRegression\n",
        "import matplotlib.pyplot as plt\n"
      ],
      "metadata": {
        "id": "CAoDX9p-9CQw"
      },
      "execution_count": 25,
      "outputs": []
    },
    {
      "cell_type": "code",
      "source": [
        "class Linear_Regression():\n",
        "# initiating the parameter (learning_rate and no_of_itertions)\n",
        "  def __init__(self, learning_rate, no_of_iterations):\n",
        "\n",
        "    self.learning_rate = learning_rate\n",
        "    self.no_of_iterations = no_of_iterations\n",
        "    self.dw=np.array([0],dtype=np.float64)\n",
        "    self.db=np.array([0],dtype=np.float64)\n",
        "\n",
        "  def fit(self, X, Y):\n",
        "    # no of training examples & numbers of features\n",
        "\n",
        "    self.m,self.n = X.shape   # no of rows and columns\n",
        "\n",
        "    # initiating the weight and bias\n",
        "    \n",
        "    print(self.m)\n",
        "    print(self.n)\n",
        "    self.w = np.zeros(self.n,dtype=np.float64)\n",
        "    self.b = np.array([0],dtype=np.float64)\n",
        "    self.X =np.array(X,dtype=np.float64)\n",
        "    self.Y = np.array(Y,dtype=np.float64)\n",
        "\n",
        "    # implementing gradient descent\n",
        "\n",
        "    for i in range(self.no_of_iterations):\n",
        "      self.update_weight()\n",
        "\n",
        "  def update_weight( self ):\n",
        "    Y_prediction = self.predict(self.X)\n",
        "\n",
        "    # calculate gradient\n",
        "    \n",
        "    self.dw = - ( 2 * (self.X.T).dot(self.Y - Y_prediction) )/self.m\n",
        "    self.db = -2 * np.sum(self.Y - Y_prediction)/self.m\n",
        "\n",
        "    # updating the weights\n",
        "\n",
        "    self.w = self.w - self.learning_rate*self.dw\n",
        "    self.b = self.b - self.learning_rate*self.db\n",
        "\n",
        "  def predict(self,X):\n",
        "\n",
        "    return X.dot(self.w) + self.b"
      ],
      "metadata": {
        "id": "HFhPVu85Oydo"
      },
      "execution_count": 26,
      "outputs": []
    },
    {
      "cell_type": "code",
      "source": [
        "#prepare dataset funtcion\n",
        "\n",
        "def prepare_dataset(gdp_per_capita,oecd_bli):\n",
        "  oecd_bli = oecd_bli[oecd_bli[\"INEQUALITY\"]==\"TOT\"]\n",
        "  oecd_bli = oecd_bli.pivot(index=\"Country\", columns=\"Indicator\", values=\"Value\")\n",
        "  gdp_per_capita.rename(columns={\"2015\": \"GDP per capita\"}, inplace=True)\n",
        "  gdp_per_capita.set_index(\"Country\", inplace=True)\n",
        "  full_country_stats = pd.merge(left=oecd_bli, right=gdp_per_capita,left_index=True, right_index=True)\n",
        "  full_country_stats.sort_values(by=\"GDP per capita\", inplace=True)\n",
        "  remove_indices = [0, 1, 6, 8, 33, 34, 35]\n",
        "  keep_indices = list(set(range(36)) - set(remove_indices))\n",
        "  full_country_stats = full_country_stats[[\"GDP per capita\", 'Life satisfaction']].iloc[keep_indices]\n",
        "  \n",
        "  return full_country_stats"
      ],
      "metadata": {
        "id": "jkVkwRp-LWqQ"
      },
      "execution_count": 27,
      "outputs": []
    },
    {
      "cell_type": "code",
      "source": [
        "#importing dataset\n",
        "\n",
        "gdp_per_capita = pd.read_csv('/gdp_per_capita.csv',encoding='latin-1')\n",
        "oecd_bli = pd.read_csv('/oecd_bli_2015.csv',encoding = 'latin-1')\n"
      ],
      "metadata": {
        "id": "2etBYSqr9anc"
      },
      "execution_count": 28,
      "outputs": []
    },
    {
      "cell_type": "code",
      "source": [
        "#preparing dataset\n",
        "full_country_stats = prepare_dataset(gdp_per_capita,oecd_bli)\n",
        "X = np.c_[full_country_stats[\"GDP per capita\"]]\n",
        "Y =  np.c_[full_country_stats[\"Life satisfaction\"]]\n",
        "X = np.array(X, dtype=np.float64)\n",
        "Y = np.array(Y, dtype=np.float64)\n",
        "#print(X)\n",
        "full_country_stats.plot(kind='scatter', x=\"GDP per capita\", y='Life satisfaction')\n",
        "plt.show()\n",
        "\n",
        "#print(X)\n",
        "#print(Y)\n"
      ],
      "metadata": {
        "colab": {
          "base_uri": "https://localhost:8080/",
          "height": 279
        },
        "id": "0IMOQZNoDRUo",
        "outputId": "923216ed-2d8f-4652-e51f-203612a076e9"
      },
      "execution_count": 29,
      "outputs": [
        {
          "output_type": "display_data",
          "data": {
            "image/png": "[encoded data removed]",
            "text/plain": [
              "<Figure size 432x288 with 1 Axes>"
            ]
          },
          "metadata": {
            "needs_background": "light"
          }
        }
      ]
    },
    {
      "cell_type": "code",
      "source": [
        "#training the model\n",
        "\n",
        "reg = LinearRegression().fit(X, Y)\n",
        "#model = Linear_Regression(learning_rate=0.02,no_of_iterations=1000)\n",
        "reg.fit(X,Y)\n",
        "X_new = [[21342]]\n",
        "print(reg.predict(X_new))"
      ],
      "metadata": {
        "colab": {
          "base_uri": "https://localhost:8080/"
        },
        "id": "8zTkMMW5PP9e",
        "outputId": "d6f549c7-f3ba-45d8-f08c-60a5be03cd9d"
      },
      "execution_count": 30,
      "outputs": [
        {
          "output_type": "stream",
          "name": "stdout",
          "text": [
            "[[5.90127465]]\n"
          ]
        }
      ]
    },
    {
      "cell_type": "code",
      "source": [
        "plt.plot(X,reg.predict(X),color='green')\n",
        "plt.scatter(X,Y)\n",
        "plt.xlabel(\"GDP pre Capita\")\n",
        "plt.ylabel(\"Life Satisfaction\")\n",
        "plt.show()"
      ],
      "metadata": {
        "colab": {
          "base_uri": "https://localhost:8080/",
          "height": 279
        },
        "id": "-9THUwd6cqTc",
        "outputId": "e4c59022-0ecd-41b8-b566-50791a8371ba"
      },
      "execution_count": 31,
      "outputs": [
        {
          "output_type": "display_data",
          "data": {
            "image/png": "[encoded data removed]",
            "text/plain": [
              "<Figure size 432x288 with 1 Axes>"
            ]
          },
          "metadata": {
            "needs_background": "light"
          }
        }
      ]
    }
  ]
}