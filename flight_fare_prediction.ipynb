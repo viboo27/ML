{
 "cells": [
  {
   "cell_type": "code",
   "execution_count": 1,
   "id": "95fa28f6",
   "metadata": {},
   "outputs": [],
   "source": [
    "import pandas as pd\n",
    "import numpy as np\n",
    "from matplotlib import pyplot as plt\n",
    "import seaborn as sns\n",
    "import scipy.stats as stats\n",
    "from sklearn import preprocessing\n",
    "from sklearn.model_selection import train_test_split\n",
    "from sklearn.metrics import accuracy_score"
   ]
  },
  {
   "cell_type": "code",
   "execution_count": 2,
   "id": "fbe34278",
   "metadata": {
    "scrolled": true
   },
   "outputs": [
    {
     "data": {
      "text/html": [
       "<div>\n",
       "<style scoped>\n",
       "    .dataframe tbody tr th:only-of-type {\n",
       "        vertical-align: middle;\n",
       "    }\n",
       "\n",
       "    .dataframe tbody tr th {\n",
       "        vertical-align: top;\n",
       "    }\n",
       "\n",
       "    .dataframe thead th {\n",
       "        text-align: right;\n",
       "    }\n",
       "</style>\n",
       "<table border=\"1\" class=\"dataframe\">\n",
       "  <thead>\n",
       "    <tr style=\"text-align: right;\">\n",
       "      <th></th>\n",
       "      <th>Unnamed: 0</th>\n",
       "      <th>airline</th>\n",
       "      <th>flight</th>\n",
       "      <th>source_city</th>\n",
       "      <th>departure_time</th>\n",
       "      <th>stops</th>\n",
       "      <th>arrival_time</th>\n",
       "      <th>destination_city</th>\n",
       "      <th>class</th>\n",
       "      <th>duration</th>\n",
       "      <th>days_left</th>\n",
       "      <th>price</th>\n",
       "    </tr>\n",
       "  </thead>\n",
       "  <tbody>\n",
       "    <tr>\n",
       "      <th>0</th>\n",
       "      <td>0</td>\n",
       "      <td>SpiceJet</td>\n",
       "      <td>SG-8709</td>\n",
       "      <td>Delhi</td>\n",
       "      <td>Evening</td>\n",
       "      <td>zero</td>\n",
       "      <td>Night</td>\n",
       "      <td>Mumbai</td>\n",
       "      <td>Economy</td>\n",
       "      <td>2.17</td>\n",
       "      <td>1</td>\n",
       "      <td>5953</td>\n",
       "    </tr>\n",
       "    <tr>\n",
       "      <th>1</th>\n",
       "      <td>1</td>\n",
       "      <td>SpiceJet</td>\n",
       "      <td>SG-8157</td>\n",
       "      <td>Delhi</td>\n",
       "      <td>Early_Morning</td>\n",
       "      <td>zero</td>\n",
       "      <td>Morning</td>\n",
       "      <td>Mumbai</td>\n",
       "      <td>Economy</td>\n",
       "      <td>2.33</td>\n",
       "      <td>1</td>\n",
       "      <td>5953</td>\n",
       "    </tr>\n",
       "    <tr>\n",
       "      <th>2</th>\n",
       "      <td>2</td>\n",
       "      <td>AirAsia</td>\n",
       "      <td>I5-764</td>\n",
       "      <td>Delhi</td>\n",
       "      <td>Early_Morning</td>\n",
       "      <td>zero</td>\n",
       "      <td>Early_Morning</td>\n",
       "      <td>Mumbai</td>\n",
       "      <td>Economy</td>\n",
       "      <td>2.17</td>\n",
       "      <td>1</td>\n",
       "      <td>5956</td>\n",
       "    </tr>\n",
       "    <tr>\n",
       "      <th>3</th>\n",
       "      <td>3</td>\n",
       "      <td>Vistara</td>\n",
       "      <td>UK-995</td>\n",
       "      <td>Delhi</td>\n",
       "      <td>Morning</td>\n",
       "      <td>zero</td>\n",
       "      <td>Afternoon</td>\n",
       "      <td>Mumbai</td>\n",
       "      <td>Economy</td>\n",
       "      <td>2.25</td>\n",
       "      <td>1</td>\n",
       "      <td>5955</td>\n",
       "    </tr>\n",
       "    <tr>\n",
       "      <th>4</th>\n",
       "      <td>4</td>\n",
       "      <td>Vistara</td>\n",
       "      <td>UK-963</td>\n",
       "      <td>Delhi</td>\n",
       "      <td>Morning</td>\n",
       "      <td>zero</td>\n",
       "      <td>Morning</td>\n",
       "      <td>Mumbai</td>\n",
       "      <td>Economy</td>\n",
       "      <td>2.33</td>\n",
       "      <td>1</td>\n",
       "      <td>5955</td>\n",
       "    </tr>\n",
       "    <tr>\n",
       "      <th>...</th>\n",
       "      <td>...</td>\n",
       "      <td>...</td>\n",
       "      <td>...</td>\n",
       "      <td>...</td>\n",
       "      <td>...</td>\n",
       "      <td>...</td>\n",
       "      <td>...</td>\n",
       "      <td>...</td>\n",
       "      <td>...</td>\n",
       "      <td>...</td>\n",
       "      <td>...</td>\n",
       "      <td>...</td>\n",
       "    </tr>\n",
       "    <tr>\n",
       "      <th>300148</th>\n",
       "      <td>300148</td>\n",
       "      <td>Vistara</td>\n",
       "      <td>UK-822</td>\n",
       "      <td>Chennai</td>\n",
       "      <td>Morning</td>\n",
       "      <td>one</td>\n",
       "      <td>Evening</td>\n",
       "      <td>Hyderabad</td>\n",
       "      <td>Business</td>\n",
       "      <td>10.08</td>\n",
       "      <td>49</td>\n",
       "      <td>69265</td>\n",
       "    </tr>\n",
       "    <tr>\n",
       "      <th>300149</th>\n",
       "      <td>300149</td>\n",
       "      <td>Vistara</td>\n",
       "      <td>UK-826</td>\n",
       "      <td>Chennai</td>\n",
       "      <td>Afternoon</td>\n",
       "      <td>one</td>\n",
       "      <td>Night</td>\n",
       "      <td>Hyderabad</td>\n",
       "      <td>Business</td>\n",
       "      <td>10.42</td>\n",
       "      <td>49</td>\n",
       "      <td>77105</td>\n",
       "    </tr>\n",
       "    <tr>\n",
       "      <th>300150</th>\n",
       "      <td>300150</td>\n",
       "      <td>Vistara</td>\n",
       "      <td>UK-832</td>\n",
       "      <td>Chennai</td>\n",
       "      <td>Early_Morning</td>\n",
       "      <td>one</td>\n",
       "      <td>Night</td>\n",
       "      <td>Hyderabad</td>\n",
       "      <td>Business</td>\n",
       "      <td>13.83</td>\n",
       "      <td>49</td>\n",
       "      <td>79099</td>\n",
       "    </tr>\n",
       "    <tr>\n",
       "      <th>300151</th>\n",
       "      <td>300151</td>\n",
       "      <td>Vistara</td>\n",
       "      <td>UK-828</td>\n",
       "      <td>Chennai</td>\n",
       "      <td>Early_Morning</td>\n",
       "      <td>one</td>\n",
       "      <td>Evening</td>\n",
       "      <td>Hyderabad</td>\n",
       "      <td>Business</td>\n",
       "      <td>10.00</td>\n",
       "      <td>49</td>\n",
       "      <td>81585</td>\n",
       "    </tr>\n",
       "    <tr>\n",
       "      <th>300152</th>\n",
       "      <td>300152</td>\n",
       "      <td>Vistara</td>\n",
       "      <td>UK-822</td>\n",
       "      <td>Chennai</td>\n",
       "      <td>Morning</td>\n",
       "      <td>one</td>\n",
       "      <td>Evening</td>\n",
       "      <td>Hyderabad</td>\n",
       "      <td>Business</td>\n",
       "      <td>10.08</td>\n",
       "      <td>49</td>\n",
       "      <td>81585</td>\n",
       "    </tr>\n",
       "  </tbody>\n",
       "</table>\n",
       "<p>300153 rows × 12 columns</p>\n",
       "</div>"
      ],
      "text/plain": [
       "        Unnamed: 0   airline   flight source_city departure_time stops  \\\n",
       "0                0  SpiceJet  SG-8709       Delhi        Evening  zero   \n",
       "1                1  SpiceJet  SG-8157       Delhi  Early_Morning  zero   \n",
       "2                2   AirAsia   I5-764       Delhi  Early_Morning  zero   \n",
       "3                3   Vistara   UK-995       Delhi        Morning  zero   \n",
       "4                4   Vistara   UK-963       Delhi        Morning  zero   \n",
       "...            ...       ...      ...         ...            ...   ...   \n",
       "300148      300148   Vistara   UK-822     Chennai        Morning   one   \n",
       "300149      300149   Vistara   UK-826     Chennai      Afternoon   one   \n",
       "300150      300150   Vistara   UK-832     Chennai  Early_Morning   one   \n",
       "300151      300151   Vistara   UK-828     Chennai  Early_Morning   one   \n",
       "300152      300152   Vistara   UK-822     Chennai        Morning   one   \n",
       "\n",
       "         arrival_time destination_city     class  duration  days_left  price  \n",
       "0               Night           Mumbai   Economy      2.17          1   5953  \n",
       "1             Morning           Mumbai   Economy      2.33          1   5953  \n",
       "2       Early_Morning           Mumbai   Economy      2.17          1   5956  \n",
       "3           Afternoon           Mumbai   Economy      2.25          1   5955  \n",
       "4             Morning           Mumbai   Economy      2.33          1   5955  \n",
       "...               ...              ...       ...       ...        ...    ...  \n",
       "300148        Evening        Hyderabad  Business     10.08         49  69265  \n",
       "300149          Night        Hyderabad  Business     10.42         49  77105  \n",
       "300150          Night        Hyderabad  Business     13.83         49  79099  \n",
       "300151        Evening        Hyderabad  Business     10.00         49  81585  \n",
       "300152        Evening        Hyderabad  Business     10.08         49  81585  \n",
       "\n",
       "[300153 rows x 12 columns]"
      ]
     },
     "execution_count": 2,
     "metadata": {},
     "output_type": "execute_result"
    }
   ],
   "source": [
    "data = pd.read_csv(\"Clean_Dataset.csv\")\n",
    "data"
   ]
  },
  {
   "cell_type": "code",
   "execution_count": 3,
   "id": "60c80327",
   "metadata": {},
   "outputs": [
    {
     "name": "stdout",
     "output_type": "stream",
     "text": [
      "<class 'pandas.core.frame.DataFrame'>\n",
      "RangeIndex: 300153 entries, 0 to 300152\n",
      "Data columns (total 12 columns):\n",
      " #   Column            Non-Null Count   Dtype  \n",
      "---  ------            --------------   -----  \n",
      " 0   Unnamed: 0        300153 non-null  int64  \n",
      " 1   airline           300153 non-null  object \n",
      " 2   flight            300153 non-null  object \n",
      " 3   source_city       300153 non-null  object \n",
      " 4   departure_time    300153 non-null  object \n",
      " 5   stops             300153 non-null  object \n",
      " 6   arrival_time      300153 non-null  object \n",
      " 7   destination_city  300153 non-null  object \n",
      " 8   class             300153 non-null  object \n",
      " 9   duration          300153 non-null  float64\n",
      " 10  days_left         300153 non-null  int64  \n",
      " 11  price             300153 non-null  int64  \n",
      "dtypes: float64(1), int64(3), object(8)\n",
      "memory usage: 27.5+ MB\n"
     ]
    }
   ],
   "source": [
    "data.info()\n"
   ]
  },
  {
   "cell_type": "code",
   "execution_count": 4,
   "id": "ad054640",
   "metadata": {},
   "outputs": [],
   "source": [
    "#finding no of catagorical and numarical data\n",
    "\n",
    "d_type=(data.dtypes)\n",
    "categorical = numerical = 0\n",
    "for x in d_type:\n",
    "    categorical += (str(x) == 'object')\n",
    "    numerical += (str(x) != 'object')\n"
   ]
  },
  {
   "cell_type": "markdown",
   "id": "15930b65",
   "metadata": {},
   "source": [
    "### creating text file for checking the unique values and datatypes"
   ]
  },
  {
   "cell_type": "code",
   "execution_count": 5,
   "id": "3ada9064",
   "metadata": {},
   "outputs": [],
   "source": [
    "#creating text file for checking the unique values and datatypes\n",
    "\n",
    "s = \"\"\n",
    "s += \"Categorical count: %d | Numerical Count: %d\\n\" % (categorical, numerical)\n",
    "col=list(data)\n",
    "for i in range(1,12):\n",
    "    src = pd.unique(data.iloc[:,i])\n",
    "    \n",
    "    s += col[i]+ \" has \" + str(len(src)) + \" unique values -->\"+\"\\n\" + str(src)+ \" Data type = \"+ str(type(src[0])) + \"\\n\" \n",
    "\n",
    "with open(\"output.txt\", \"w\") as f:\n",
    "    f.write(s)\n",
    "    f.close()"
   ]
  },
  {
   "cell_type": "markdown",
   "id": "ecc1693f",
   "metadata": {},
   "source": [
    "### Function for plotting the pie chart"
   ]
  },
  {
   "cell_type": "code",
   "execution_count": 6,
   "id": "eca90520",
   "metadata": {},
   "outputs": [],
   "source": [
    "#func for ploting pie chart\n",
    "def plot_chart(col_no):\n",
    "    \"\"\"Plots a pie chart showing the distribution of data with their count\"\"\"\n",
    "    title = col[col_no]\n",
    "    fig = plt.figure()\n",
    "    ax = fig.add_axes([0,0,1,1])\n",
    "    ax.axis('equal')\n",
    "    val = pd.unique(data.iloc[:,col_no])\n",
    "    count = []\n",
    "    for i in range(len(val)):\n",
    "        count += [list(data.iloc[:,col_no]).count(val[i])]\n",
    "    count\n",
    "    def absolute_value(x):\n",
    "        a  = round(x/100*sum(count))\n",
    "        return a\n",
    "    ax.pie(count, labels = val,autopct=absolute_value)\n",
    "    plt.title(title,fontname=\"Times New Roman\",fontweight=\"bold\")\n",
    "\n",
    "    plt.show()\n",
    "#     plt.close()"
   ]
  },
  {
   "cell_type": "markdown",
   "id": "1274c53d",
   "metadata": {},
   "source": [
    "### plots of the Categorical data"
   ]
  },
  {
   "cell_type": "code",
   "execution_count": 7,
   "id": "82153be5",
   "metadata": {},
   "outputs": [
    {
     "name": "stderr",
     "output_type": "stream",
     "text": [
      "findfont: Font family ['Times New Roman'] not found. Falling back to DejaVu Sans.\n"
     ]
    },
    {
     "data": {
      "image/png": "[encoded data removed]",
      "text/plain": [
       "<Figure size 432x288 with 1 Axes>"
      ]
     },
     "metadata": {},
     "output_type": "display_data"
    }
   ],
   "source": [
    "plot_chart(1)"
   ]
  },
  {
   "cell_type": "code",
   "execution_count": 8,
   "id": "aba6b843",
   "metadata": {},
   "outputs": [
    {
     "data": {
      "image/png": "[encoded data removed]",
      "text/plain": [
       "<Figure size 432x288 with 1 Axes>"
      ]
     },
     "metadata": {},
     "output_type": "display_data"
    }
   ],
   "source": [
    "plot_chart(3)"
   ]
  },
  {
   "cell_type": "code",
   "execution_count": 9,
   "id": "3c2f50be",
   "metadata": {},
   "outputs": [
    {
     "data": {
      "image/png": "[encoded data removed]",
      "text/plain": [
       "<Figure size 432x288 with 1 Axes>"
      ]
     },
     "metadata": {},
     "output_type": "display_data"
    }
   ],
   "source": [
    "plot_chart(4)"
   ]
  },
  {
   "cell_type": "code",
   "execution_count": 10,
   "id": "3ceb988f",
   "metadata": {},
   "outputs": [
    {
     "data": {
      "image/png": "[encoded data removed]",
      "text/plain": [
       "<Figure size 432x288 with 1 Axes>"
      ]
     },
     "metadata": {},
     "output_type": "display_data"
    }
   ],
   "source": [
    "plot_chart(5)"
   ]
  },
  {
   "cell_type": "code",
   "execution_count": 11,
   "id": "3f94f59c",
   "metadata": {},
   "outputs": [
    {
     "data": {
      "image/png": "[encoded data removed]",
      "text/plain": [
       "<Figure size 432x288 with 1 Axes>"
      ]
     },
     "metadata": {},
     "output_type": "display_data"
    }
   ],
   "source": [
    "plot_chart(6)"
   ]
  },
  {
   "cell_type": "code",
   "execution_count": 12,
   "id": "c7b2ce6d",
   "metadata": {},
   "outputs": [
    {
     "data": {
      "image/png": "[encoded data removed]",
      "text/plain": [
       "<Figure size 432x288 with 1 Axes>"
      ]
     },
     "metadata": {},
     "output_type": "display_data"
    }
   ],
   "source": [
    "plot_chart(7)"
   ]
  },
  {
   "cell_type": "code",
   "execution_count": 13,
   "id": "ff69cd8d",
   "metadata": {},
   "outputs": [
    {
     "data": {
      "image/png": "[encoded data removed]",
      "text/plain": [
       "<Figure size 432x288 with 1 Axes>"
      ]
     },
     "metadata": {},
     "output_type": "display_data"
    }
   ],
   "source": [
    "plot_chart(8)"
   ]
  },
  {
   "cell_type": "markdown",
   "id": "4ab8b54d",
   "metadata": {},
   "source": [
    "### Function for plotting Histograms "
   ]
  },
  {
   "cell_type": "code",
   "execution_count": 14,
   "id": "6325b2b9",
   "metadata": {},
   "outputs": [],
   "source": [
    "\n",
    "\n",
    "def plot_hist(col_no,lo,hi,gap,x_label,y_label):\n",
    "\n",
    "# Creating dataset\n",
    "    a = np.array(data.iloc[:,col_no])\n",
    "    title = col[col_no]\n",
    "    font1 = {'family':'serif','color':'blue','size':15}\n",
    "    # Creating histogram\n",
    "    fig, ax = plt.subplots(figsize =(10, 7))\n",
    "    ax.hist(a,bins=list(range(lo, hi,gap)))\n",
    "    plt.title(title,fontname=\"serif\",fontweight=\"bold\" ,size=20)\n",
    "    plt.xlabel(x_label,fontdict = font1)\n",
    "    plt.ylabel(y_label,fontdict = font1)\n",
    "    # Show plot\n",
    "    plt.show()\n"
   ]
  },
  {
   "cell_type": "code",
   "execution_count": null,
   "id": "e1986961",
   "metadata": {},
   "outputs": [],
   "source": []
  },
  {
   "cell_type": "code",
   "execution_count": 15,
   "id": "18030e2c",
   "metadata": {},
   "outputs": [
    {
     "data": {
      "image/png": "[encoded data removed]",
      "text/plain": [
       "<Figure size 720x504 with 1 Axes>"
      ]
     },
     "metadata": {
      "needs_background": "light"
     },
     "output_type": "display_data"
    }
   ],
   "source": [
    "plot_hist(9,0,50,1,\"duration in hours\" ,\"count\")"
   ]
  },
  {
   "cell_type": "code",
   "execution_count": 16,
   "id": "be1b951a",
   "metadata": {},
   "outputs": [
    {
     "data": {
      "image/png": "[encoded data removed]",
      "text/plain": [
       "<Figure size 720x504 with 1 Axes>"
      ]
     },
     "metadata": {
      "needs_background": "light"
     },
     "output_type": "display_data"
    }
   ],
   "source": [
    "plot_hist(11,0,100000,1000,\"price in rupees\",\"count\")"
   ]
  },
  {
   "cell_type": "code",
   "execution_count": 17,
   "id": "daccddbd",
   "metadata": {},
   "outputs": [
    {
     "data": {
      "image/png": "[encoded data removed]",
      "text/plain": [
       "<Figure size 720x504 with 1 Axes>"
      ]
     },
     "metadata": {
      "needs_background": "light"
     },
     "output_type": "display_data"
    }
   ],
   "source": [
    "plot_hist(10,0,50,1,\"booked before days\",\"count\")"
   ]
  },
  {
   "cell_type": "code",
   "execution_count": 18,
   "id": "dbaa1453",
   "metadata": {},
   "outputs": [
    {
     "name": "stderr",
     "output_type": "stream",
     "text": [
      "/home/viboo27/anaconda3/lib/python3.9/site-packages/seaborn/distributions.py:2619: FutureWarning: `distplot` is a deprecated function and will be removed in a future version. Please adapt your code to use either `displot` (a figure-level function with similar flexibility) or `histplot` (an axes-level function for histograms).\n",
      "  warnings.warn(msg, FutureWarning)\n"
     ]
    },
    {
     "data": {
      "text/plain": [
       "<AxesSubplot:xlabel='days_left', ylabel='Density'>"
      ]
     },
     "execution_count": 18,
     "metadata": {},
     "output_type": "execute_result"
    },
    {
     "data": {
      "image/png": "[encoded data removed]",
      "text/plain": [
       "<Figure size 432x288 with 1 Axes>"
      ]
     },
     "metadata": {
      "needs_background": "light"
     },
     "output_type": "display_data"
    }
   ],
   "source": [
    "sns.distplot(data['days_left'])"
   ]
  },
  {
   "cell_type": "code",
   "execution_count": 19,
   "id": "774ee06a",
   "metadata": {},
   "outputs": [
    {
     "name": "stderr",
     "output_type": "stream",
     "text": [
      "/home/viboo27/anaconda3/lib/python3.9/site-packages/seaborn/distributions.py:2619: FutureWarning: `distplot` is a deprecated function and will be removed in a future version. Please adapt your code to use either `displot` (a figure-level function with similar flexibility) or `histplot` (an axes-level function for histograms).\n",
      "  warnings.warn(msg, FutureWarning)\n"
     ]
    },
    {
     "data": {
      "text/plain": [
       "<AxesSubplot:xlabel='days_left', ylabel='Density'>"
      ]
     },
     "execution_count": 19,
     "metadata": {},
     "output_type": "execute_result"
    },
    {
     "data": {
      "image/png": "[encoded data removed]",
      "text/plain": [
       "<Figure size 432x288 with 1 Axes>"
      ]
     },
     "metadata": {
      "needs_background": "light"
     },
     "output_type": "display_data"
    }
   ],
   "source": [
    "new_days_left = 1 / (data['days_left'])\n",
    "# cp['price_log']=np.log(cp['price'])\n",
    "sns.distplot(new_days_left)"
   ]
  },
  {
   "cell_type": "code",
   "execution_count": 20,
   "id": "fed8c7fb",
   "metadata": {},
   "outputs": [
    {
     "name": "stderr",
     "output_type": "stream",
     "text": [
      "/home/viboo27/anaconda3/lib/python3.9/site-packages/seaborn/distributions.py:2619: FutureWarning: `distplot` is a deprecated function and will be removed in a future version. Please adapt your code to use either `displot` (a figure-level function with similar flexibility) or `histplot` (an axes-level function for histograms).\n",
      "  warnings.warn(msg, FutureWarning)\n"
     ]
    },
    {
     "data": {
      "text/plain": [
       "<AxesSubplot:xlabel='days_left', ylabel='Density'>"
      ]
     },
     "execution_count": 20,
     "metadata": {},
     "output_type": "execute_result"
    },
    {
     "data": {
      "image/png": "[encoded data removed]",
      "text/plain": [
       "<Figure size 432x288 with 1 Axes>"
      ]
     },
     "metadata": {
      "needs_background": "light"
     },
     "output_type": "display_data"
    }
   ],
   "source": [
    "new_days_left = np.sqrt(data['days_left'])\n",
    "# cp['price_log']=np.log(cp['price'])\n",
    "sns.distplot(new_days_left)"
   ]
  },
  {
   "cell_type": "code",
   "execution_count": 21,
   "id": "0aef01a0",
   "metadata": {},
   "outputs": [
    {
     "name": "stderr",
     "output_type": "stream",
     "text": [
      "/home/viboo27/anaconda3/lib/python3.9/site-packages/seaborn/distributions.py:2619: FutureWarning: `distplot` is a deprecated function and will be removed in a future version. Please adapt your code to use either `displot` (a figure-level function with similar flexibility) or `histplot` (an axes-level function for histograms).\n",
      "  warnings.warn(msg, FutureWarning)\n"
     ]
    },
    {
     "data": {
      "text/plain": [
       "<AxesSubplot:xlabel='days_left', ylabel='Density'>"
      ]
     },
     "execution_count": 21,
     "metadata": {},
     "output_type": "execute_result"
    },
    {
     "data": {
      "image/png": "[encoded data removed]",
      "text/plain": [
       "<Figure size 432x288 with 1 Axes>"
      ]
     },
     "metadata": {
      "needs_background": "light"
     },
     "output_type": "display_data"
    }
   ],
   "source": [
    "new_days_left = data['days_left']**(1/2.5)\n",
    "# cp['price_log']=np.log(cp['price'])\n",
    "sns.distplot(new_days_left)"
   ]
  },
  {
   "cell_type": "code",
   "execution_count": 22,
   "id": "43dcb5be",
   "metadata": {},
   "outputs": [
    {
     "name": "stderr",
     "output_type": "stream",
     "text": [
      "/home/viboo27/anaconda3/lib/python3.9/site-packages/seaborn/distributions.py:2619: FutureWarning: `distplot` is a deprecated function and will be removed in a future version. Please adapt your code to use either `displot` (a figure-level function with similar flexibility) or `histplot` (an axes-level function for histograms).\n",
      "  warnings.warn(msg, FutureWarning)\n"
     ]
    },
    {
     "data": {
      "text/plain": [
       "<AxesSubplot:ylabel='Density'>"
      ]
     },
     "execution_count": 22,
     "metadata": {},
     "output_type": "execute_result"
    },
    {
     "data": {
      "image/png": "[encoded data removed]",
      "text/plain": [
       "<Figure size 432x288 with 1 Axes>"
      ]
     },
     "metadata": {
      "needs_background": "light"
     },
     "output_type": "display_data"
    }
   ],
   "source": [
    "new_days_left, parameters = stats.boxcox(data['days_left'])\n",
    "# cp['price_log']=np.log(cp['price'])\n",
    "sns.distplot(new_days_left)"
   ]
  },
  {
   "cell_type": "code",
   "execution_count": 23,
   "id": "6af4e991",
   "metadata": {},
   "outputs": [
    {
     "name": "stderr",
     "output_type": "stream",
     "text": [
      "/home/viboo27/anaconda3/lib/python3.9/site-packages/seaborn/distributions.py:2619: FutureWarning: `distplot` is a deprecated function and will be removed in a future version. Please adapt your code to use either `displot` (a figure-level function with similar flexibility) or `histplot` (an axes-level function for histograms).\n",
      "  warnings.warn(msg, FutureWarning)\n"
     ]
    },
    {
     "data": {
      "text/plain": [
       "<AxesSubplot:xlabel='duration', ylabel='Density'>"
      ]
     },
     "execution_count": 23,
     "metadata": {},
     "output_type": "execute_result"
    },
    {
     "data": {
      "image/png": "[encoded data removed]",
      "text/plain": [
       "<Figure size 432x288 with 1 Axes>"
      ]
     },
     "metadata": {
      "needs_background": "light"
     },
     "output_type": "display_data"
    }
   ],
   "source": [
    "sns.distplot(data['duration'])"
   ]
  },
  {
   "cell_type": "code",
   "execution_count": 24,
   "id": "ba193d84",
   "metadata": {},
   "outputs": [
    {
     "name": "stderr",
     "output_type": "stream",
     "text": [
      "/home/viboo27/anaconda3/lib/python3.9/site-packages/seaborn/distributions.py:2619: FutureWarning: `distplot` is a deprecated function and will be removed in a future version. Please adapt your code to use either `displot` (a figure-level function with similar flexibility) or `histplot` (an axes-level function for histograms).\n",
      "  warnings.warn(msg, FutureWarning)\n"
     ]
    },
    {
     "data": {
      "text/plain": [
       "<AxesSubplot:xlabel='duration', ylabel='Density'>"
      ]
     },
     "execution_count": 24,
     "metadata": {},
     "output_type": "execute_result"
    },
    {
     "data": {
      "image/png": "[encoded data removed]",
      "text/plain": [
       "<Figure size 432x288 with 1 Axes>"
      ]
     },
     "metadata": {
      "needs_background": "light"
     },
     "output_type": "display_data"
    }
   ],
   "source": [
    "\n",
    "new_duration = np.log(data['duration'])\n",
    "# cp['price_log']=np.log(cp['price'])\n",
    "sns.distplot(new_duration)"
   ]
  },
  {
   "cell_type": "code",
   "execution_count": 25,
   "id": "73e408a2",
   "metadata": {},
   "outputs": [
    {
     "name": "stderr",
     "output_type": "stream",
     "text": [
      "/home/viboo27/anaconda3/lib/python3.9/site-packages/seaborn/distributions.py:2619: FutureWarning: `distplot` is a deprecated function and will be removed in a future version. Please adapt your code to use either `displot` (a figure-level function with similar flexibility) or `histplot` (an axes-level function for histograms).\n",
      "  warnings.warn(msg, FutureWarning)\n"
     ]
    },
    {
     "data": {
      "text/plain": [
       "<AxesSubplot:xlabel='duration', ylabel='Density'>"
      ]
     },
     "execution_count": 25,
     "metadata": {},
     "output_type": "execute_result"
    },
    {
     "data": {
      "image/png": "[encoded data removed]",
      "text/plain": [
       "<Figure size 432x288 with 1 Axes>"
      ]
     },
     "metadata": {
      "needs_background": "light"
     },
     "output_type": "display_data"
    }
   ],
   "source": [
    "new_duration = 1/data['duration']\n",
    "# cp['price_log']=np.log(cp['price'])\n",
    "sns.distplot(new_duration)"
   ]
  },
  {
   "cell_type": "code",
   "execution_count": 26,
   "id": "73c6f978",
   "metadata": {},
   "outputs": [
    {
     "name": "stderr",
     "output_type": "stream",
     "text": [
      "/home/viboo27/anaconda3/lib/python3.9/site-packages/seaborn/distributions.py:2619: FutureWarning: `distplot` is a deprecated function and will be removed in a future version. Please adapt your code to use either `displot` (a figure-level function with similar flexibility) or `histplot` (an axes-level function for histograms).\n",
      "  warnings.warn(msg, FutureWarning)\n"
     ]
    },
    {
     "data": {
      "text/plain": [
       "<AxesSubplot:ylabel='Density'>"
      ]
     },
     "execution_count": 26,
     "metadata": {},
     "output_type": "execute_result"
    },
    {
     "data": {
      "image/png": "[encoded data removed]",
      "text/plain": [
       "<Figure size 432x288 with 1 Axes>"
      ]
     },
     "metadata": {
      "needs_background": "light"
     },
     "output_type": "display_data"
    }
   ],
   "source": [
    "new_days_left, parameters = stats.boxcox(data['duration'])\n",
    "# cp['price_log']=np.log(cp['price'])\n",
    "sns.distplot(new_days_left)"
   ]
  },
  {
   "cell_type": "markdown",
   "id": "50501e50",
   "metadata": {},
   "source": [
    "sklearn minmaxscaler"
   ]
  },
  {
   "cell_type": "code",
   "execution_count": 27,
   "id": "0a200cb6",
   "metadata": {},
   "outputs": [
    {
     "name": "stderr",
     "output_type": "stream",
     "text": [
      "/home/viboo27/anaconda3/lib/python3.9/site-packages/seaborn/distributions.py:2619: FutureWarning: `distplot` is a deprecated function and will be removed in a future version. Please adapt your code to use either `displot` (a figure-level function with similar flexibility) or `histplot` (an axes-level function for histograms).\n",
      "  warnings.warn(msg, FutureWarning)\n"
     ]
    },
    {
     "data": {
      "text/plain": [
       "<AxesSubplot:ylabel='Density'>"
      ]
     },
     "execution_count": 27,
     "metadata": {},
     "output_type": "execute_result"
    },
    {
     "data": {
      "image/png": "[encoded data removed]",
      "text/plain": [
       "<Figure size 432x288 with 1 Axes>"
      ]
     },
     "metadata": {
      "needs_background": "light"
     },
     "output_type": "display_data"
    }
   ],
   "source": [
    "from sklearn import preprocessing\n",
    "daata = data[['days_left','duration','price']]\n",
    "scaler=preprocessing.MinMaxScaler()\n",
    "minmax_df=scaler.fit_transform(daata)\n",
    "sns.distplot(minmax_df)\n"
   ]
  },
  {
   "cell_type": "code",
   "execution_count": 28,
   "id": "31df2609",
   "metadata": {},
   "outputs": [
    {
     "data": {
      "text/plain": [
       "<AxesSubplot:>"
      ]
     },
     "execution_count": 28,
     "metadata": {},
     "output_type": "execute_result"
    },
    {
     "data": {
      "image/png": "[encoded data removed]",
      "text/plain": [
       "<Figure size 432x288 with 1 Axes>"
      ]
     },
     "metadata": {
      "needs_background": "light"
     },
     "output_type": "display_data"
    }
   ],
   "source": [
    "data.boxplot(column='duration')"
   ]
  },
  {
   "cell_type": "code",
   "execution_count": 29,
   "id": "cd268c9b",
   "metadata": {},
   "outputs": [
    {
     "data": {
      "text/plain": [
       "<AxesSubplot:>"
      ]
     },
     "execution_count": 29,
     "metadata": {},
     "output_type": "execute_result"
    },
    {
     "data": {
      "image/png": "[encoded data removed]",
      "text/plain": [
       "<Figure size 432x288 with 1 Axes>"
      ]
     },
     "metadata": {
      "needs_background": "light"
     },
     "output_type": "display_data"
    }
   ],
   "source": [
    "data.boxplot(column='days_left')"
   ]
  },
  {
   "cell_type": "code",
   "execution_count": 31,
   "id": "99c4cfe1",
   "metadata": {},
   "outputs": [
    {
     "name": "stdout",
     "output_type": "stream",
     "text": [
      "duration -7.1800000000000015 30.180000000000003 0.83 49.83\n",
      "days_left -19.5 72.5 1.0 49.0\n"
     ]
    }
   ],
   "source": [
    "\n",
    "quantiles = []\n",
    "\n",
    "def find_quantiles(name):\n",
    "    q1, q2, q3 = data[name].quantile(0.25), data[name].quantile(0.5), data[name].quantile(0.75)\n",
    "    return [q1, q2, q3]\n",
    "data = data.copy()\n",
    "for name in ['duration','days_left']:\n",
    "    q1, q2, q3 = find_quantiles(name)\n",
    "    iqr = q3 - q1\n",
    "    max_range = q3 + 1.5*iqr\n",
    "    min_range = q1 - 1.5*iqr\n",
    "    print(name, min_range, max_range, min(data[name]), max(data[name]))\n",
    "    count = 0\n",
    "    data[data[name] >= max_range] = max_range\n",
    "    data[data[name] <= min_range] = min_range\n",
    "    quantiles += [[name, q1, q2, q3, iqr, min_range, max_range, count, data]]\n",
    "    \n",
    "\n",
    "\n",
    "    "
   ]
  },
  {
   "cell_type": "code",
   "execution_count": 32,
   "id": "1414a776",
   "metadata": {},
   "outputs": [
    {
     "data": {
      "text/html": [
       "<div>\n",
       "<style scoped>\n",
       "    .dataframe tbody tr th:only-of-type {\n",
       "        vertical-align: middle;\n",
       "    }\n",
       "\n",
       "    .dataframe tbody tr th {\n",
       "        vertical-align: top;\n",
       "    }\n",
       "\n",
       "    .dataframe thead th {\n",
       "        text-align: right;\n",
       "    }\n",
       "</style>\n",
       "<table border=\"1\" class=\"dataframe\">\n",
       "  <thead>\n",
       "    <tr style=\"text-align: right;\">\n",
       "      <th></th>\n",
       "      <th>Unnamed: 0</th>\n",
       "      <th>airline</th>\n",
       "      <th>flight</th>\n",
       "      <th>source_city</th>\n",
       "      <th>departure_time</th>\n",
       "      <th>stops</th>\n",
       "      <th>arrival_time</th>\n",
       "      <th>destination_city</th>\n",
       "      <th>class</th>\n",
       "      <th>duration</th>\n",
       "      <th>days_left</th>\n",
       "      <th>price</th>\n",
       "    </tr>\n",
       "  </thead>\n",
       "  <tbody>\n",
       "    <tr>\n",
       "      <th>0</th>\n",
       "      <td>0.0</td>\n",
       "      <td>SpiceJet</td>\n",
       "      <td>SG-8709</td>\n",
       "      <td>Delhi</td>\n",
       "      <td>Evening</td>\n",
       "      <td>zero</td>\n",
       "      <td>Night</td>\n",
       "      <td>Mumbai</td>\n",
       "      <td>Economy</td>\n",
       "      <td>2.17</td>\n",
       "      <td>1.0</td>\n",
       "      <td>5953.0</td>\n",
       "    </tr>\n",
       "    <tr>\n",
       "      <th>1</th>\n",
       "      <td>1.0</td>\n",
       "      <td>SpiceJet</td>\n",
       "      <td>SG-8157</td>\n",
       "      <td>Delhi</td>\n",
       "      <td>Early_Morning</td>\n",
       "      <td>zero</td>\n",
       "      <td>Morning</td>\n",
       "      <td>Mumbai</td>\n",
       "      <td>Economy</td>\n",
       "      <td>2.33</td>\n",
       "      <td>1.0</td>\n",
       "      <td>5953.0</td>\n",
       "    </tr>\n",
       "    <tr>\n",
       "      <th>2</th>\n",
       "      <td>2.0</td>\n",
       "      <td>AirAsia</td>\n",
       "      <td>I5-764</td>\n",
       "      <td>Delhi</td>\n",
       "      <td>Early_Morning</td>\n",
       "      <td>zero</td>\n",
       "      <td>Early_Morning</td>\n",
       "      <td>Mumbai</td>\n",
       "      <td>Economy</td>\n",
       "      <td>2.17</td>\n",
       "      <td>1.0</td>\n",
       "      <td>5956.0</td>\n",
       "    </tr>\n",
       "    <tr>\n",
       "      <th>3</th>\n",
       "      <td>3.0</td>\n",
       "      <td>Vistara</td>\n",
       "      <td>UK-995</td>\n",
       "      <td>Delhi</td>\n",
       "      <td>Morning</td>\n",
       "      <td>zero</td>\n",
       "      <td>Afternoon</td>\n",
       "      <td>Mumbai</td>\n",
       "      <td>Economy</td>\n",
       "      <td>2.25</td>\n",
       "      <td>1.0</td>\n",
       "      <td>5955.0</td>\n",
       "    </tr>\n",
       "    <tr>\n",
       "      <th>4</th>\n",
       "      <td>4.0</td>\n",
       "      <td>Vistara</td>\n",
       "      <td>UK-963</td>\n",
       "      <td>Delhi</td>\n",
       "      <td>Morning</td>\n",
       "      <td>zero</td>\n",
       "      <td>Morning</td>\n",
       "      <td>Mumbai</td>\n",
       "      <td>Economy</td>\n",
       "      <td>2.33</td>\n",
       "      <td>1.0</td>\n",
       "      <td>5955.0</td>\n",
       "    </tr>\n",
       "    <tr>\n",
       "      <th>...</th>\n",
       "      <td>...</td>\n",
       "      <td>...</td>\n",
       "      <td>...</td>\n",
       "      <td>...</td>\n",
       "      <td>...</td>\n",
       "      <td>...</td>\n",
       "      <td>...</td>\n",
       "      <td>...</td>\n",
       "      <td>...</td>\n",
       "      <td>...</td>\n",
       "      <td>...</td>\n",
       "      <td>...</td>\n",
       "    </tr>\n",
       "    <tr>\n",
       "      <th>300148</th>\n",
       "      <td>300148.0</td>\n",
       "      <td>Vistara</td>\n",
       "      <td>UK-822</td>\n",
       "      <td>Chennai</td>\n",
       "      <td>Morning</td>\n",
       "      <td>one</td>\n",
       "      <td>Evening</td>\n",
       "      <td>Hyderabad</td>\n",
       "      <td>Business</td>\n",
       "      <td>10.08</td>\n",
       "      <td>49.0</td>\n",
       "      <td>69265.0</td>\n",
       "    </tr>\n",
       "    <tr>\n",
       "      <th>300149</th>\n",
       "      <td>300149.0</td>\n",
       "      <td>Vistara</td>\n",
       "      <td>UK-826</td>\n",
       "      <td>Chennai</td>\n",
       "      <td>Afternoon</td>\n",
       "      <td>one</td>\n",
       "      <td>Night</td>\n",
       "      <td>Hyderabad</td>\n",
       "      <td>Business</td>\n",
       "      <td>10.42</td>\n",
       "      <td>49.0</td>\n",
       "      <td>77105.0</td>\n",
       "    </tr>\n",
       "    <tr>\n",
       "      <th>300150</th>\n",
       "      <td>300150.0</td>\n",
       "      <td>Vistara</td>\n",
       "      <td>UK-832</td>\n",
       "      <td>Chennai</td>\n",
       "      <td>Early_Morning</td>\n",
       "      <td>one</td>\n",
       "      <td>Night</td>\n",
       "      <td>Hyderabad</td>\n",
       "      <td>Business</td>\n",
       "      <td>13.83</td>\n",
       "      <td>49.0</td>\n",
       "      <td>79099.0</td>\n",
       "    </tr>\n",
       "    <tr>\n",
       "      <th>300151</th>\n",
       "      <td>300151.0</td>\n",
       "      <td>Vistara</td>\n",
       "      <td>UK-828</td>\n",
       "      <td>Chennai</td>\n",
       "      <td>Early_Morning</td>\n",
       "      <td>one</td>\n",
       "      <td>Evening</td>\n",
       "      <td>Hyderabad</td>\n",
       "      <td>Business</td>\n",
       "      <td>10.00</td>\n",
       "      <td>49.0</td>\n",
       "      <td>81585.0</td>\n",
       "    </tr>\n",
       "    <tr>\n",
       "      <th>300152</th>\n",
       "      <td>300152.0</td>\n",
       "      <td>Vistara</td>\n",
       "      <td>UK-822</td>\n",
       "      <td>Chennai</td>\n",
       "      <td>Morning</td>\n",
       "      <td>one</td>\n",
       "      <td>Evening</td>\n",
       "      <td>Hyderabad</td>\n",
       "      <td>Business</td>\n",
       "      <td>10.08</td>\n",
       "      <td>49.0</td>\n",
       "      <td>81585.0</td>\n",
       "    </tr>\n",
       "  </tbody>\n",
       "</table>\n",
       "<p>300153 rows × 12 columns</p>\n",
       "</div>"
      ],
      "text/plain": [
       "        Unnamed: 0   airline   flight source_city departure_time stops  \\\n",
       "0              0.0  SpiceJet  SG-8709       Delhi        Evening  zero   \n",
       "1              1.0  SpiceJet  SG-8157       Delhi  Early_Morning  zero   \n",
       "2              2.0   AirAsia   I5-764       Delhi  Early_Morning  zero   \n",
       "3              3.0   Vistara   UK-995       Delhi        Morning  zero   \n",
       "4              4.0   Vistara   UK-963       Delhi        Morning  zero   \n",
       "...            ...       ...      ...         ...            ...   ...   \n",
       "300148    300148.0   Vistara   UK-822     Chennai        Morning   one   \n",
       "300149    300149.0   Vistara   UK-826     Chennai      Afternoon   one   \n",
       "300150    300150.0   Vistara   UK-832     Chennai  Early_Morning   one   \n",
       "300151    300151.0   Vistara   UK-828     Chennai  Early_Morning   one   \n",
       "300152    300152.0   Vistara   UK-822     Chennai        Morning   one   \n",
       "\n",
       "         arrival_time destination_city     class  duration  days_left    price  \n",
       "0               Night           Mumbai   Economy      2.17        1.0   5953.0  \n",
       "1             Morning           Mumbai   Economy      2.33        1.0   5953.0  \n",
       "2       Early_Morning           Mumbai   Economy      2.17        1.0   5956.0  \n",
       "3           Afternoon           Mumbai   Economy      2.25        1.0   5955.0  \n",
       "4             Morning           Mumbai   Economy      2.33        1.0   5955.0  \n",
       "...               ...              ...       ...       ...        ...      ...  \n",
       "300148        Evening        Hyderabad  Business     10.08       49.0  69265.0  \n",
       "300149          Night        Hyderabad  Business     10.42       49.0  77105.0  \n",
       "300150          Night        Hyderabad  Business     13.83       49.0  79099.0  \n",
       "300151        Evening        Hyderabad  Business     10.00       49.0  81585.0  \n",
       "300152        Evening        Hyderabad  Business     10.08       49.0  81585.0  \n",
       "\n",
       "[300153 rows x 12 columns]"
      ]
     },
     "execution_count": 32,
     "metadata": {},
     "output_type": "execute_result"
    }
   ],
   "source": [
    "data"
   ]
  },
  {
   "cell_type": "code",
   "execution_count": 33,
   "id": "b3753139",
   "metadata": {},
   "outputs": [
    {
     "data": {
      "text/plain": [
       "<AxesSubplot:>"
      ]
     },
     "execution_count": 33,
     "metadata": {},
     "output_type": "execute_result"
    },
    {
     "data": {
      "image/png": "[encoded data removed]",
      "text/plain": [
       "<Figure size 432x288 with 1 Axes>"
      ]
     },
     "metadata": {
      "needs_background": "light"
     },
     "output_type": "display_data"
    }
   ],
   "source": [
    "data.boxplot(column='duration')"
   ]
  },
  {
   "cell_type": "code",
   "execution_count": 34,
   "id": "2614916a",
   "metadata": {},
   "outputs": [
    {
     "data": {
      "text/plain": [
       "<AxesSubplot:>"
      ]
     },
     "execution_count": 34,
     "metadata": {},
     "output_type": "execute_result"
    },
    {
     "data": {
      "image/png": "[encoded data removed]",
      "text/plain": [
       "<Figure size 432x288 with 1 Axes>"
      ]
     },
     "metadata": {
      "needs_background": "light"
     },
     "output_type": "display_data"
    }
   ],
   "source": [
    "data.boxplot(column='days_left')"
   ]
  },
  {
   "cell_type": "code",
   "execution_count": 35,
   "id": "5645d6cb",
   "metadata": {},
   "outputs": [
    {
     "data": {
      "text/plain": [
       "<AxesSubplot:>"
      ]
     },
     "execution_count": 35,
     "metadata": {},
     "output_type": "execute_result"
    },
    {
     "data": {
      "image/png": "[encoded data removed]",
      "text/plain": [
       "<Figure size 432x288 with 1 Axes>"
      ]
     },
     "metadata": {
      "needs_background": "light"
     },
     "output_type": "display_data"
    }
   ],
   "source": [
    "data.boxplot(column='price')"
   ]
  },
  {
   "cell_type": "code",
   "execution_count": 36,
   "id": "e5730ce2",
   "metadata": {},
   "outputs": [
    {
     "name": "stdout",
     "output_type": "stream",
     "text": [
      "duration 0\n",
      "price 123\n",
      "days_left 0\n"
     ]
    }
   ],
   "source": [
    "def find_quantiles(name):\n",
    "    q1, q2, q3 = data[name].quantile(0.25), data[name].quantile(0.5), data[name].quantile(0.75)\n",
    "    return [q1, q2, q3]\n",
    "for name in ['duration', 'price', 'days_left']:\n",
    "    q1, q2, q3 = find_quantiles(name)\n",
    "    iqr = q3 - q1\n",
    "    max_range = q3 + 1.5*iqr\n",
    "    min_range = q1 - 1.5*iqr\n",
    "    print(name, len([x for x in data[name] if x > max_range or x < min_range]))"
   ]
  },
  {
   "cell_type": "code",
   "execution_count": 37,
   "id": "602cbc2e",
   "metadata": {},
   "outputs": [
    {
     "data": {
      "text/plain": [
       "array(['zero', 'one', 'two_or_more', 30.180000000000003], dtype=object)"
      ]
     },
     "execution_count": 37,
     "metadata": {},
     "output_type": "execute_result"
    }
   ],
   "source": [
    "data['stops'].unique()"
   ]
  },
  {
   "cell_type": "code",
   "execution_count": 38,
   "id": "ec481fa6",
   "metadata": {},
   "outputs": [
    {
     "data": {
      "text/plain": [
       "<bound method NDFrame.head of 0         zero\n",
       "1         zero\n",
       "2         zero\n",
       "3         zero\n",
       "4         zero\n",
       "          ... \n",
       "300148     one\n",
       "300149     one\n",
       "300150     one\n",
       "300151     one\n",
       "300152     one\n",
       "Name: stops, Length: 300153, dtype: object>"
      ]
     },
     "execution_count": 38,
     "metadata": {},
     "output_type": "execute_result"
    }
   ],
   "source": [
    "data['stops'].head"
   ]
  },
  {
   "cell_type": "code",
   "execution_count": 39,
   "id": "1cc179a1",
   "metadata": {},
   "outputs": [
    {
     "data": {
      "text/plain": [
       "<bound method NDFrame.head of 0          Economy\n",
       "1          Economy\n",
       "2          Economy\n",
       "3          Economy\n",
       "4          Economy\n",
       "            ...   \n",
       "300148    Business\n",
       "300149    Business\n",
       "300150    Business\n",
       "300151    Business\n",
       "300152    Business\n",
       "Name: class, Length: 300153, dtype: object>"
      ]
     },
     "execution_count": 39,
     "metadata": {},
     "output_type": "execute_result"
    }
   ],
   "source": [
    "data['class'].head"
   ]
  },
  {
   "cell_type": "code",
   "execution_count": 41,
   "id": "56f5e724",
   "metadata": {},
   "outputs": [],
   "source": [
    "# As this is case of Ordinal Categorical type we perform LabelEncoder\n",
    "# Here Values are assigned with corresponding keys\n",
    "\n",
    "data.replace({\"zero\": 0, \"one\": 1, \"two_or_more\": 2}, inplace = True)"
   ]
  },
  {
   "cell_type": "code",
   "execution_count": 42,
   "id": "4a28a97e",
   "metadata": {},
   "outputs": [
    {
     "data": {
      "text/plain": [
       "<bound method NDFrame.head of 0         0.0\n",
       "1         0.0\n",
       "2         0.0\n",
       "3         0.0\n",
       "4         0.0\n",
       "         ... \n",
       "300148    1.0\n",
       "300149    1.0\n",
       "300150    1.0\n",
       "300151    1.0\n",
       "300152    1.0\n",
       "Name: stops, Length: 300153, dtype: float64>"
      ]
     },
     "execution_count": 42,
     "metadata": {},
     "output_type": "execute_result"
    }
   ],
   "source": [
    "data['stops'].head"
   ]
  },
  {
   "cell_type": "code",
   "execution_count": 43,
   "id": "da9d5a94",
   "metadata": {},
   "outputs": [
    {
     "data": {
      "text/plain": [
       "<bound method NDFrame.head of 0         1.0\n",
       "1         1.0\n",
       "2         1.0\n",
       "3         1.0\n",
       "4         1.0\n",
       "         ... \n",
       "300148    0.0\n",
       "300149    0.0\n",
       "300150    0.0\n",
       "300151    0.0\n",
       "300152    0.0\n",
       "Name: class, Length: 300153, dtype: float64>"
      ]
     },
     "execution_count": 43,
     "metadata": {},
     "output_type": "execute_result"
    }
   ],
   "source": [
    "data.replace({\"Business\": 0, \"Economy\": 1}, inplace = True)\n",
    "data['class'].head              \n",
    "              "
   ]
  },
  {
   "cell_type": "code",
   "execution_count": 44,
   "id": "b2b165a9",
   "metadata": {},
   "outputs": [
    {
     "data": {
      "text/html": [
       "<div>\n",
       "<style scoped>\n",
       "    .dataframe tbody tr th:only-of-type {\n",
       "        vertical-align: middle;\n",
       "    }\n",
       "\n",
       "    .dataframe tbody tr th {\n",
       "        vertical-align: top;\n",
       "    }\n",
       "\n",
       "    .dataframe thead th {\n",
       "        text-align: right;\n",
       "    }\n",
       "</style>\n",
       "<table border=\"1\" class=\"dataframe\">\n",
       "  <thead>\n",
       "    <tr style=\"text-align: right;\">\n",
       "      <th></th>\n",
       "      <th>Unnamed: 0</th>\n",
       "      <th>airline</th>\n",
       "      <th>flight</th>\n",
       "      <th>source_city</th>\n",
       "      <th>departure_time</th>\n",
       "      <th>stops</th>\n",
       "      <th>arrival_time</th>\n",
       "      <th>destination_city</th>\n",
       "      <th>class</th>\n",
       "      <th>duration</th>\n",
       "      <th>days_left</th>\n",
       "      <th>price</th>\n",
       "    </tr>\n",
       "  </thead>\n",
       "  <tbody>\n",
       "    <tr>\n",
       "      <th>0</th>\n",
       "      <td>0.0</td>\n",
       "      <td>SpiceJet</td>\n",
       "      <td>SG-8709</td>\n",
       "      <td>Delhi</td>\n",
       "      <td>Evening</td>\n",
       "      <td>0.0</td>\n",
       "      <td>Night</td>\n",
       "      <td>Mumbai</td>\n",
       "      <td>1.0</td>\n",
       "      <td>2.17</td>\n",
       "      <td>1.0</td>\n",
       "      <td>5953.0</td>\n",
       "    </tr>\n",
       "    <tr>\n",
       "      <th>1</th>\n",
       "      <td>1.0</td>\n",
       "      <td>SpiceJet</td>\n",
       "      <td>SG-8157</td>\n",
       "      <td>Delhi</td>\n",
       "      <td>Early_Morning</td>\n",
       "      <td>0.0</td>\n",
       "      <td>Morning</td>\n",
       "      <td>Mumbai</td>\n",
       "      <td>1.0</td>\n",
       "      <td>2.33</td>\n",
       "      <td>1.0</td>\n",
       "      <td>5953.0</td>\n",
       "    </tr>\n",
       "    <tr>\n",
       "      <th>2</th>\n",
       "      <td>2.0</td>\n",
       "      <td>AirAsia</td>\n",
       "      <td>I5-764</td>\n",
       "      <td>Delhi</td>\n",
       "      <td>Early_Morning</td>\n",
       "      <td>0.0</td>\n",
       "      <td>Early_Morning</td>\n",
       "      <td>Mumbai</td>\n",
       "      <td>1.0</td>\n",
       "      <td>2.17</td>\n",
       "      <td>1.0</td>\n",
       "      <td>5956.0</td>\n",
       "    </tr>\n",
       "    <tr>\n",
       "      <th>3</th>\n",
       "      <td>3.0</td>\n",
       "      <td>Vistara</td>\n",
       "      <td>UK-995</td>\n",
       "      <td>Delhi</td>\n",
       "      <td>Morning</td>\n",
       "      <td>0.0</td>\n",
       "      <td>Afternoon</td>\n",
       "      <td>Mumbai</td>\n",
       "      <td>1.0</td>\n",
       "      <td>2.25</td>\n",
       "      <td>1.0</td>\n",
       "      <td>5955.0</td>\n",
       "    </tr>\n",
       "    <tr>\n",
       "      <th>4</th>\n",
       "      <td>4.0</td>\n",
       "      <td>Vistara</td>\n",
       "      <td>UK-963</td>\n",
       "      <td>Delhi</td>\n",
       "      <td>Morning</td>\n",
       "      <td>0.0</td>\n",
       "      <td>Morning</td>\n",
       "      <td>Mumbai</td>\n",
       "      <td>1.0</td>\n",
       "      <td>2.33</td>\n",
       "      <td>1.0</td>\n",
       "      <td>5955.0</td>\n",
       "    </tr>\n",
       "  </tbody>\n",
       "</table>\n",
       "</div>"
      ],
      "text/plain": [
       "   Unnamed: 0   airline   flight source_city departure_time  stops  \\\n",
       "0         0.0  SpiceJet  SG-8709       Delhi        Evening    0.0   \n",
       "1         1.0  SpiceJet  SG-8157       Delhi  Early_Morning    0.0   \n",
       "2         2.0   AirAsia   I5-764       Delhi  Early_Morning    0.0   \n",
       "3         3.0   Vistara   UK-995       Delhi        Morning    0.0   \n",
       "4         4.0   Vistara   UK-963       Delhi        Morning    0.0   \n",
       "\n",
       "    arrival_time destination_city  class  duration  days_left   price  \n",
       "0          Night           Mumbai    1.0      2.17        1.0  5953.0  \n",
       "1        Morning           Mumbai    1.0      2.33        1.0  5953.0  \n",
       "2  Early_Morning           Mumbai    1.0      2.17        1.0  5956.0  \n",
       "3      Afternoon           Mumbai    1.0      2.25        1.0  5955.0  \n",
       "4        Morning           Mumbai    1.0      2.33        1.0  5955.0  "
      ]
     },
     "execution_count": 44,
     "metadata": {},
     "output_type": "execute_result"
    }
   ],
   "source": [
    "data.head()"
   ]
  },
  {
   "cell_type": "code",
   "execution_count": 45,
   "id": "39c461da",
   "metadata": {},
   "outputs": [],
   "source": [
    "# drop flight name \n",
    "del data['flight']\n",
    "del data['Unnamed: 0']"
   ]
  },
  {
   "cell_type": "code",
   "execution_count": 46,
   "id": "e7c16b34",
   "metadata": {},
   "outputs": [
    {
     "data": {
      "text/html": [
       "<div>\n",
       "<style scoped>\n",
       "    .dataframe tbody tr th:only-of-type {\n",
       "        vertical-align: middle;\n",
       "    }\n",
       "\n",
       "    .dataframe tbody tr th {\n",
       "        vertical-align: top;\n",
       "    }\n",
       "\n",
       "    .dataframe thead th {\n",
       "        text-align: right;\n",
       "    }\n",
       "</style>\n",
       "<table border=\"1\" class=\"dataframe\">\n",
       "  <thead>\n",
       "    <tr style=\"text-align: right;\">\n",
       "      <th></th>\n",
       "      <th>airline</th>\n",
       "      <th>source_city</th>\n",
       "      <th>departure_time</th>\n",
       "      <th>stops</th>\n",
       "      <th>arrival_time</th>\n",
       "      <th>destination_city</th>\n",
       "      <th>class</th>\n",
       "      <th>duration</th>\n",
       "      <th>days_left</th>\n",
       "      <th>price</th>\n",
       "    </tr>\n",
       "  </thead>\n",
       "  <tbody>\n",
       "    <tr>\n",
       "      <th>0</th>\n",
       "      <td>SpiceJet</td>\n",
       "      <td>Delhi</td>\n",
       "      <td>Evening</td>\n",
       "      <td>0.0</td>\n",
       "      <td>Night</td>\n",
       "      <td>Mumbai</td>\n",
       "      <td>1.0</td>\n",
       "      <td>2.17</td>\n",
       "      <td>1.0</td>\n",
       "      <td>5953.0</td>\n",
       "    </tr>\n",
       "    <tr>\n",
       "      <th>1</th>\n",
       "      <td>SpiceJet</td>\n",
       "      <td>Delhi</td>\n",
       "      <td>Early_Morning</td>\n",
       "      <td>0.0</td>\n",
       "      <td>Morning</td>\n",
       "      <td>Mumbai</td>\n",
       "      <td>1.0</td>\n",
       "      <td>2.33</td>\n",
       "      <td>1.0</td>\n",
       "      <td>5953.0</td>\n",
       "    </tr>\n",
       "    <tr>\n",
       "      <th>2</th>\n",
       "      <td>AirAsia</td>\n",
       "      <td>Delhi</td>\n",
       "      <td>Early_Morning</td>\n",
       "      <td>0.0</td>\n",
       "      <td>Early_Morning</td>\n",
       "      <td>Mumbai</td>\n",
       "      <td>1.0</td>\n",
       "      <td>2.17</td>\n",
       "      <td>1.0</td>\n",
       "      <td>5956.0</td>\n",
       "    </tr>\n",
       "    <tr>\n",
       "      <th>3</th>\n",
       "      <td>Vistara</td>\n",
       "      <td>Delhi</td>\n",
       "      <td>Morning</td>\n",
       "      <td>0.0</td>\n",
       "      <td>Afternoon</td>\n",
       "      <td>Mumbai</td>\n",
       "      <td>1.0</td>\n",
       "      <td>2.25</td>\n",
       "      <td>1.0</td>\n",
       "      <td>5955.0</td>\n",
       "    </tr>\n",
       "    <tr>\n",
       "      <th>4</th>\n",
       "      <td>Vistara</td>\n",
       "      <td>Delhi</td>\n",
       "      <td>Morning</td>\n",
       "      <td>0.0</td>\n",
       "      <td>Morning</td>\n",
       "      <td>Mumbai</td>\n",
       "      <td>1.0</td>\n",
       "      <td>2.33</td>\n",
       "      <td>1.0</td>\n",
       "      <td>5955.0</td>\n",
       "    </tr>\n",
       "    <tr>\n",
       "      <th>...</th>\n",
       "      <td>...</td>\n",
       "      <td>...</td>\n",
       "      <td>...</td>\n",
       "      <td>...</td>\n",
       "      <td>...</td>\n",
       "      <td>...</td>\n",
       "      <td>...</td>\n",
       "      <td>...</td>\n",
       "      <td>...</td>\n",
       "      <td>...</td>\n",
       "    </tr>\n",
       "    <tr>\n",
       "      <th>300148</th>\n",
       "      <td>Vistara</td>\n",
       "      <td>Chennai</td>\n",
       "      <td>Morning</td>\n",
       "      <td>1.0</td>\n",
       "      <td>Evening</td>\n",
       "      <td>Hyderabad</td>\n",
       "      <td>0.0</td>\n",
       "      <td>10.08</td>\n",
       "      <td>49.0</td>\n",
       "      <td>69265.0</td>\n",
       "    </tr>\n",
       "    <tr>\n",
       "      <th>300149</th>\n",
       "      <td>Vistara</td>\n",
       "      <td>Chennai</td>\n",
       "      <td>Afternoon</td>\n",
       "      <td>1.0</td>\n",
       "      <td>Night</td>\n",
       "      <td>Hyderabad</td>\n",
       "      <td>0.0</td>\n",
       "      <td>10.42</td>\n",
       "      <td>49.0</td>\n",
       "      <td>77105.0</td>\n",
       "    </tr>\n",
       "    <tr>\n",
       "      <th>300150</th>\n",
       "      <td>Vistara</td>\n",
       "      <td>Chennai</td>\n",
       "      <td>Early_Morning</td>\n",
       "      <td>1.0</td>\n",
       "      <td>Night</td>\n",
       "      <td>Hyderabad</td>\n",
       "      <td>0.0</td>\n",
       "      <td>13.83</td>\n",
       "      <td>49.0</td>\n",
       "      <td>79099.0</td>\n",
       "    </tr>\n",
       "    <tr>\n",
       "      <th>300151</th>\n",
       "      <td>Vistara</td>\n",
       "      <td>Chennai</td>\n",
       "      <td>Early_Morning</td>\n",
       "      <td>1.0</td>\n",
       "      <td>Evening</td>\n",
       "      <td>Hyderabad</td>\n",
       "      <td>0.0</td>\n",
       "      <td>10.00</td>\n",
       "      <td>49.0</td>\n",
       "      <td>81585.0</td>\n",
       "    </tr>\n",
       "    <tr>\n",
       "      <th>300152</th>\n",
       "      <td>Vistara</td>\n",
       "      <td>Chennai</td>\n",
       "      <td>Morning</td>\n",
       "      <td>1.0</td>\n",
       "      <td>Evening</td>\n",
       "      <td>Hyderabad</td>\n",
       "      <td>0.0</td>\n",
       "      <td>10.08</td>\n",
       "      <td>49.0</td>\n",
       "      <td>81585.0</td>\n",
       "    </tr>\n",
       "  </tbody>\n",
       "</table>\n",
       "<p>300153 rows × 10 columns</p>\n",
       "</div>"
      ],
      "text/plain": [
       "         airline source_city departure_time  stops   arrival_time  \\\n",
       "0       SpiceJet       Delhi        Evening    0.0          Night   \n",
       "1       SpiceJet       Delhi  Early_Morning    0.0        Morning   \n",
       "2        AirAsia       Delhi  Early_Morning    0.0  Early_Morning   \n",
       "3        Vistara       Delhi        Morning    0.0      Afternoon   \n",
       "4        Vistara       Delhi        Morning    0.0        Morning   \n",
       "...          ...         ...            ...    ...            ...   \n",
       "300148   Vistara     Chennai        Morning    1.0        Evening   \n",
       "300149   Vistara     Chennai      Afternoon    1.0          Night   \n",
       "300150   Vistara     Chennai  Early_Morning    1.0          Night   \n",
       "300151   Vistara     Chennai  Early_Morning    1.0        Evening   \n",
       "300152   Vistara     Chennai        Morning    1.0        Evening   \n",
       "\n",
       "       destination_city  class  duration  days_left    price  \n",
       "0                Mumbai    1.0      2.17        1.0   5953.0  \n",
       "1                Mumbai    1.0      2.33        1.0   5953.0  \n",
       "2                Mumbai    1.0      2.17        1.0   5956.0  \n",
       "3                Mumbai    1.0      2.25        1.0   5955.0  \n",
       "4                Mumbai    1.0      2.33        1.0   5955.0  \n",
       "...                 ...    ...       ...        ...      ...  \n",
       "300148        Hyderabad    0.0     10.08       49.0  69265.0  \n",
       "300149        Hyderabad    0.0     10.42       49.0  77105.0  \n",
       "300150        Hyderabad    0.0     13.83       49.0  79099.0  \n",
       "300151        Hyderabad    0.0     10.00       49.0  81585.0  \n",
       "300152        Hyderabad    0.0     10.08       49.0  81585.0  \n",
       "\n",
       "[300153 rows x 10 columns]"
      ]
     },
     "execution_count": 46,
     "metadata": {},
     "output_type": "execute_result"
    }
   ],
   "source": [
    "data"
   ]
  },
  {
   "cell_type": "markdown",
   "id": "b608cff8",
   "metadata": {},
   "source": [
    "## Mean Encoding for the Elipgible Catagorical Data"
   ]
  },
  {
   "cell_type": "code",
   "execution_count": 47,
   "id": "493b69d7",
   "metadata": {},
   "outputs": [
    {
     "data": {
      "text/html": [
       "<div>\n",
       "<style scoped>\n",
       "    .dataframe tbody tr th:only-of-type {\n",
       "        vertical-align: middle;\n",
       "    }\n",
       "\n",
       "    .dataframe tbody tr th {\n",
       "        vertical-align: top;\n",
       "    }\n",
       "\n",
       "    .dataframe thead th {\n",
       "        text-align: right;\n",
       "    }\n",
       "</style>\n",
       "<table border=\"1\" class=\"dataframe\">\n",
       "  <thead>\n",
       "    <tr style=\"text-align: right;\">\n",
       "      <th></th>\n",
       "      <th>airline</th>\n",
       "      <th>source_city</th>\n",
       "      <th>departure_time</th>\n",
       "      <th>stops</th>\n",
       "      <th>arrival_time</th>\n",
       "      <th>destination_city</th>\n",
       "      <th>class</th>\n",
       "      <th>duration</th>\n",
       "      <th>days_left</th>\n",
       "      <th>price</th>\n",
       "    </tr>\n",
       "  </thead>\n",
       "  <tbody>\n",
       "    <tr>\n",
       "      <th>0</th>\n",
       "      <td>6179.278881</td>\n",
       "      <td>18973.847507</td>\n",
       "      <td>21247.176996</td>\n",
       "      <td>0.0</td>\n",
       "      <td>21615.453202</td>\n",
       "      <td>21388.587670</td>\n",
       "      <td>1.0</td>\n",
       "      <td>2.17</td>\n",
       "      <td>1.0</td>\n",
       "      <td>5953.0</td>\n",
       "    </tr>\n",
       "    <tr>\n",
       "      <th>1</th>\n",
       "      <td>6179.278881</td>\n",
       "      <td>18973.847507</td>\n",
       "      <td>20419.934815</td>\n",
       "      <td>0.0</td>\n",
       "      <td>22231.235358</td>\n",
       "      <td>21388.587670</td>\n",
       "      <td>1.0</td>\n",
       "      <td>2.33</td>\n",
       "      <td>1.0</td>\n",
       "      <td>5953.0</td>\n",
       "    </tr>\n",
       "    <tr>\n",
       "      <th>2</th>\n",
       "      <td>4091.072742</td>\n",
       "      <td>18973.847507</td>\n",
       "      <td>20419.934815</td>\n",
       "      <td>0.0</td>\n",
       "      <td>15013.511614</td>\n",
       "      <td>21388.587670</td>\n",
       "      <td>1.0</td>\n",
       "      <td>2.17</td>\n",
       "      <td>1.0</td>\n",
       "      <td>5956.0</td>\n",
       "    </tr>\n",
       "    <tr>\n",
       "      <th>3</th>\n",
       "      <td>30441.361453</td>\n",
       "      <td>18973.847507</td>\n",
       "      <td>21700.127883</td>\n",
       "      <td>0.0</td>\n",
       "      <td>18497.845321</td>\n",
       "      <td>21388.587670</td>\n",
       "      <td>1.0</td>\n",
       "      <td>2.25</td>\n",
       "      <td>1.0</td>\n",
       "      <td>5955.0</td>\n",
       "    </tr>\n",
       "    <tr>\n",
       "      <th>4</th>\n",
       "      <td>30441.361453</td>\n",
       "      <td>18973.847507</td>\n",
       "      <td>21700.127883</td>\n",
       "      <td>0.0</td>\n",
       "      <td>22231.235358</td>\n",
       "      <td>21388.587670</td>\n",
       "      <td>1.0</td>\n",
       "      <td>2.33</td>\n",
       "      <td>1.0</td>\n",
       "      <td>5955.0</td>\n",
       "    </tr>\n",
       "    <tr>\n",
       "      <th>...</th>\n",
       "      <td>...</td>\n",
       "      <td>...</td>\n",
       "      <td>...</td>\n",
       "      <td>...</td>\n",
       "      <td>...</td>\n",
       "      <td>...</td>\n",
       "      <td>...</td>\n",
       "      <td>...</td>\n",
       "      <td>...</td>\n",
       "      <td>...</td>\n",
       "    </tr>\n",
       "    <tr>\n",
       "      <th>300148</th>\n",
       "      <td>30441.361453</td>\n",
       "      <td>22129.103288</td>\n",
       "      <td>21700.127883</td>\n",
       "      <td>1.0</td>\n",
       "      <td>23138.646445</td>\n",
       "      <td>20519.964973</td>\n",
       "      <td>0.0</td>\n",
       "      <td>10.08</td>\n",
       "      <td>49.0</td>\n",
       "      <td>69265.0</td>\n",
       "    </tr>\n",
       "    <tr>\n",
       "      <th>300149</th>\n",
       "      <td>30441.361453</td>\n",
       "      <td>22129.103288</td>\n",
       "      <td>18128.756910</td>\n",
       "      <td>1.0</td>\n",
       "      <td>21615.453202</td>\n",
       "      <td>20519.964973</td>\n",
       "      <td>0.0</td>\n",
       "      <td>10.42</td>\n",
       "      <td>49.0</td>\n",
       "      <td>77105.0</td>\n",
       "    </tr>\n",
       "    <tr>\n",
       "      <th>300150</th>\n",
       "      <td>30441.361453</td>\n",
       "      <td>22129.103288</td>\n",
       "      <td>20419.934815</td>\n",
       "      <td>1.0</td>\n",
       "      <td>21615.453202</td>\n",
       "      <td>20519.964973</td>\n",
       "      <td>0.0</td>\n",
       "      <td>13.83</td>\n",
       "      <td>49.0</td>\n",
       "      <td>79099.0</td>\n",
       "    </tr>\n",
       "    <tr>\n",
       "      <th>300151</th>\n",
       "      <td>30441.361453</td>\n",
       "      <td>22129.103288</td>\n",
       "      <td>20419.934815</td>\n",
       "      <td>1.0</td>\n",
       "      <td>23138.646445</td>\n",
       "      <td>20519.964973</td>\n",
       "      <td>0.0</td>\n",
       "      <td>10.00</td>\n",
       "      <td>49.0</td>\n",
       "      <td>81585.0</td>\n",
       "    </tr>\n",
       "    <tr>\n",
       "      <th>300152</th>\n",
       "      <td>30441.361453</td>\n",
       "      <td>22129.103288</td>\n",
       "      <td>21700.127883</td>\n",
       "      <td>1.0</td>\n",
       "      <td>23138.646445</td>\n",
       "      <td>20519.964973</td>\n",
       "      <td>0.0</td>\n",
       "      <td>10.08</td>\n",
       "      <td>49.0</td>\n",
       "      <td>81585.0</td>\n",
       "    </tr>\n",
       "  </tbody>\n",
       "</table>\n",
       "<p>300153 rows × 10 columns</p>\n",
       "</div>"
      ],
      "text/plain": [
       "             airline   source_city  departure_time  stops  arrival_time  \\\n",
       "0        6179.278881  18973.847507    21247.176996    0.0  21615.453202   \n",
       "1        6179.278881  18973.847507    20419.934815    0.0  22231.235358   \n",
       "2        4091.072742  18973.847507    20419.934815    0.0  15013.511614   \n",
       "3       30441.361453  18973.847507    21700.127883    0.0  18497.845321   \n",
       "4       30441.361453  18973.847507    21700.127883    0.0  22231.235358   \n",
       "...              ...           ...             ...    ...           ...   \n",
       "300148  30441.361453  22129.103288    21700.127883    1.0  23138.646445   \n",
       "300149  30441.361453  22129.103288    18128.756910    1.0  21615.453202   \n",
       "300150  30441.361453  22129.103288    20419.934815    1.0  21615.453202   \n",
       "300151  30441.361453  22129.103288    20419.934815    1.0  23138.646445   \n",
       "300152  30441.361453  22129.103288    21700.127883    1.0  23138.646445   \n",
       "\n",
       "        destination_city  class  duration  days_left    price  \n",
       "0           21388.587670    1.0      2.17        1.0   5953.0  \n",
       "1           21388.587670    1.0      2.33        1.0   5953.0  \n",
       "2           21388.587670    1.0      2.17        1.0   5956.0  \n",
       "3           21388.587670    1.0      2.25        1.0   5955.0  \n",
       "4           21388.587670    1.0      2.33        1.0   5955.0  \n",
       "...                  ...    ...       ...        ...      ...  \n",
       "300148      20519.964973    0.0     10.08       49.0  69265.0  \n",
       "300149      20519.964973    0.0     10.42       49.0  77105.0  \n",
       "300150      20519.964973    0.0     13.83       49.0  79099.0  \n",
       "300151      20519.964973    0.0     10.00       49.0  81585.0  \n",
       "300152      20519.964973    0.0     10.08       49.0  81585.0  \n",
       "\n",
       "[300153 rows x 10 columns]"
      ]
     },
     "execution_count": 47,
     "metadata": {},
     "output_type": "execute_result"
    }
   ],
   "source": [
    "for name in ['arrival_time','source_city','departure_time','airline','destination_city']:\n",
    "    data.groupby([name])['price'].count()\n",
    "    data.groupby([name])['price'].mean()\n",
    "    Mean_encoded_subject =data.groupby([name])['price'].mean().to_dict()\n",
    "\n",
    "    data[name] = data[name].map(Mean_encoded_subject)\n",
    "\n",
    "data"
   ]
  },
  {
   "cell_type": "markdown",
   "id": "9b517b44",
   "metadata": {},
   "source": [
    "### Data info after  Encoding all Caegorical data"
   ]
  },
  {
   "cell_type": "code",
   "execution_count": 48,
   "id": "14e80500",
   "metadata": {},
   "outputs": [
    {
     "name": "stdout",
     "output_type": "stream",
     "text": [
      "<class 'pandas.core.frame.DataFrame'>\n",
      "RangeIndex: 300153 entries, 0 to 300152\n",
      "Data columns (total 10 columns):\n",
      " #   Column            Non-Null Count   Dtype  \n",
      "---  ------            --------------   -----  \n",
      " 0   airline           300153 non-null  float64\n",
      " 1   source_city       300153 non-null  float64\n",
      " 2   departure_time    300153 non-null  float64\n",
      " 3   stops             300153 non-null  float64\n",
      " 4   arrival_time      300153 non-null  float64\n",
      " 5   destination_city  300153 non-null  float64\n",
      " 6   class             300153 non-null  float64\n",
      " 7   duration          300153 non-null  float64\n",
      " 8   days_left         300153 non-null  float64\n",
      " 9   price             300153 non-null  float64\n",
      "dtypes: float64(10)\n",
      "memory usage: 22.9 MB\n"
     ]
    }
   ],
   "source": [
    "data.info()"
   ]
  },
  {
   "cell_type": "markdown",
   "id": "e15c169e",
   "metadata": {},
   "source": [
    "### Splitting into Train and Test Data"
   ]
  },
  {
   "cell_type": "code",
   "execution_count": 49,
   "id": "df8cb809",
   "metadata": {},
   "outputs": [
    {
     "data": {
      "text/html": [
       "<div>\n",
       "<style scoped>\n",
       "    .dataframe tbody tr th:only-of-type {\n",
       "        vertical-align: middle;\n",
       "    }\n",
       "\n",
       "    .dataframe tbody tr th {\n",
       "        vertical-align: top;\n",
       "    }\n",
       "\n",
       "    .dataframe thead th {\n",
       "        text-align: right;\n",
       "    }\n",
       "</style>\n",
       "<table border=\"1\" class=\"dataframe\">\n",
       "  <thead>\n",
       "    <tr style=\"text-align: right;\">\n",
       "      <th></th>\n",
       "      <th>airline</th>\n",
       "      <th>source_city</th>\n",
       "      <th>departure_time</th>\n",
       "      <th>stops</th>\n",
       "      <th>arrival_time</th>\n",
       "      <th>destination_city</th>\n",
       "      <th>class</th>\n",
       "      <th>duration</th>\n",
       "      <th>days_left</th>\n",
       "    </tr>\n",
       "  </thead>\n",
       "  <tbody>\n",
       "    <tr>\n",
       "      <th>0</th>\n",
       "      <td>6179.278881</td>\n",
       "      <td>18973.847507</td>\n",
       "      <td>21247.176996</td>\n",
       "      <td>0.0</td>\n",
       "      <td>21615.453202</td>\n",
       "      <td>21388.587670</td>\n",
       "      <td>1.0</td>\n",
       "      <td>2.17</td>\n",
       "      <td>1.0</td>\n",
       "    </tr>\n",
       "    <tr>\n",
       "      <th>1</th>\n",
       "      <td>6179.278881</td>\n",
       "      <td>18973.847507</td>\n",
       "      <td>20419.934815</td>\n",
       "      <td>0.0</td>\n",
       "      <td>22231.235358</td>\n",
       "      <td>21388.587670</td>\n",
       "      <td>1.0</td>\n",
       "      <td>2.33</td>\n",
       "      <td>1.0</td>\n",
       "    </tr>\n",
       "    <tr>\n",
       "      <th>2</th>\n",
       "      <td>4091.072742</td>\n",
       "      <td>18973.847507</td>\n",
       "      <td>20419.934815</td>\n",
       "      <td>0.0</td>\n",
       "      <td>15013.511614</td>\n",
       "      <td>21388.587670</td>\n",
       "      <td>1.0</td>\n",
       "      <td>2.17</td>\n",
       "      <td>1.0</td>\n",
       "    </tr>\n",
       "    <tr>\n",
       "      <th>3</th>\n",
       "      <td>30441.361453</td>\n",
       "      <td>18973.847507</td>\n",
       "      <td>21700.127883</td>\n",
       "      <td>0.0</td>\n",
       "      <td>18497.845321</td>\n",
       "      <td>21388.587670</td>\n",
       "      <td>1.0</td>\n",
       "      <td>2.25</td>\n",
       "      <td>1.0</td>\n",
       "    </tr>\n",
       "    <tr>\n",
       "      <th>4</th>\n",
       "      <td>30441.361453</td>\n",
       "      <td>18973.847507</td>\n",
       "      <td>21700.127883</td>\n",
       "      <td>0.0</td>\n",
       "      <td>22231.235358</td>\n",
       "      <td>21388.587670</td>\n",
       "      <td>1.0</td>\n",
       "      <td>2.33</td>\n",
       "      <td>1.0</td>\n",
       "    </tr>\n",
       "    <tr>\n",
       "      <th>...</th>\n",
       "      <td>...</td>\n",
       "      <td>...</td>\n",
       "      <td>...</td>\n",
       "      <td>...</td>\n",
       "      <td>...</td>\n",
       "      <td>...</td>\n",
       "      <td>...</td>\n",
       "      <td>...</td>\n",
       "      <td>...</td>\n",
       "    </tr>\n",
       "    <tr>\n",
       "      <th>300148</th>\n",
       "      <td>30441.361453</td>\n",
       "      <td>22129.103288</td>\n",
       "      <td>21700.127883</td>\n",
       "      <td>1.0</td>\n",
       "      <td>23138.646445</td>\n",
       "      <td>20519.964973</td>\n",
       "      <td>0.0</td>\n",
       "      <td>10.08</td>\n",
       "      <td>49.0</td>\n",
       "    </tr>\n",
       "    <tr>\n",
       "      <th>300149</th>\n",
       "      <td>30441.361453</td>\n",
       "      <td>22129.103288</td>\n",
       "      <td>18128.756910</td>\n",
       "      <td>1.0</td>\n",
       "      <td>21615.453202</td>\n",
       "      <td>20519.964973</td>\n",
       "      <td>0.0</td>\n",
       "      <td>10.42</td>\n",
       "      <td>49.0</td>\n",
       "    </tr>\n",
       "    <tr>\n",
       "      <th>300150</th>\n",
       "      <td>30441.361453</td>\n",
       "      <td>22129.103288</td>\n",
       "      <td>20419.934815</td>\n",
       "      <td>1.0</td>\n",
       "      <td>21615.453202</td>\n",
       "      <td>20519.964973</td>\n",
       "      <td>0.0</td>\n",
       "      <td>13.83</td>\n",
       "      <td>49.0</td>\n",
       "    </tr>\n",
       "    <tr>\n",
       "      <th>300151</th>\n",
       "      <td>30441.361453</td>\n",
       "      <td>22129.103288</td>\n",
       "      <td>20419.934815</td>\n",
       "      <td>1.0</td>\n",
       "      <td>23138.646445</td>\n",
       "      <td>20519.964973</td>\n",
       "      <td>0.0</td>\n",
       "      <td>10.00</td>\n",
       "      <td>49.0</td>\n",
       "    </tr>\n",
       "    <tr>\n",
       "      <th>300152</th>\n",
       "      <td>30441.361453</td>\n",
       "      <td>22129.103288</td>\n",
       "      <td>21700.127883</td>\n",
       "      <td>1.0</td>\n",
       "      <td>23138.646445</td>\n",
       "      <td>20519.964973</td>\n",
       "      <td>0.0</td>\n",
       "      <td>10.08</td>\n",
       "      <td>49.0</td>\n",
       "    </tr>\n",
       "  </tbody>\n",
       "</table>\n",
       "<p>300153 rows × 9 columns</p>\n",
       "</div>"
      ],
      "text/plain": [
       "             airline   source_city  departure_time  stops  arrival_time  \\\n",
       "0        6179.278881  18973.847507    21247.176996    0.0  21615.453202   \n",
       "1        6179.278881  18973.847507    20419.934815    0.0  22231.235358   \n",
       "2        4091.072742  18973.847507    20419.934815    0.0  15013.511614   \n",
       "3       30441.361453  18973.847507    21700.127883    0.0  18497.845321   \n",
       "4       30441.361453  18973.847507    21700.127883    0.0  22231.235358   \n",
       "...              ...           ...             ...    ...           ...   \n",
       "300148  30441.361453  22129.103288    21700.127883    1.0  23138.646445   \n",
       "300149  30441.361453  22129.103288    18128.756910    1.0  21615.453202   \n",
       "300150  30441.361453  22129.103288    20419.934815    1.0  21615.453202   \n",
       "300151  30441.361453  22129.103288    20419.934815    1.0  23138.646445   \n",
       "300152  30441.361453  22129.103288    21700.127883    1.0  23138.646445   \n",
       "\n",
       "        destination_city  class  duration  days_left  \n",
       "0           21388.587670    1.0      2.17        1.0  \n",
       "1           21388.587670    1.0      2.33        1.0  \n",
       "2           21388.587670    1.0      2.17        1.0  \n",
       "3           21388.587670    1.0      2.25        1.0  \n",
       "4           21388.587670    1.0      2.33        1.0  \n",
       "...                  ...    ...       ...        ...  \n",
       "300148      20519.964973    0.0     10.08       49.0  \n",
       "300149      20519.964973    0.0     10.42       49.0  \n",
       "300150      20519.964973    0.0     13.83       49.0  \n",
       "300151      20519.964973    0.0     10.00       49.0  \n",
       "300152      20519.964973    0.0     10.08       49.0  \n",
       "\n",
       "[300153 rows x 9 columns]"
      ]
     },
     "execution_count": 49,
     "metadata": {},
     "output_type": "execute_result"
    }
   ],
   "source": [
    "\n",
    "X=data.iloc[:,0:9]\n",
    "X"
   ]
  },
  {
   "cell_type": "code",
   "execution_count": 50,
   "id": "c8662255",
   "metadata": {},
   "outputs": [
    {
     "data": {
      "text/plain": [
       "0          5953.0\n",
       "1          5953.0\n",
       "2          5956.0\n",
       "3          5955.0\n",
       "4          5955.0\n",
       "           ...   \n",
       "300148    69265.0\n",
       "300149    77105.0\n",
       "300150    79099.0\n",
       "300151    81585.0\n",
       "300152    81585.0\n",
       "Name: price, Length: 300153, dtype: float64"
      ]
     },
     "execution_count": 50,
     "metadata": {},
     "output_type": "execute_result"
    }
   ],
   "source": [
    "Y=data['price']\n",
    "Y"
   ]
  },
  {
   "cell_type": "code",
   "execution_count": 52,
   "id": "14ebaa83",
   "metadata": {},
   "outputs": [],
   "source": [
    "X_train, X_test, Y_train, Y_test = train_test_split(X, Y, test_size=0.2,\n",
    "                                                    random_state=1)"
   ]
  },
  {
   "cell_type": "markdown",
   "id": "b75ff927",
   "metadata": {},
   "source": [
    "## Linear Regression Model Fitting"
   ]
  },
  {
   "cell_type": "code",
   "execution_count": 59,
   "id": "c3308d7e",
   "metadata": {},
   "outputs": [
    {
     "name": "stdout",
     "output_type": "stream",
     "text": [
      "Coefficients:  [ 3.65063527e-01 -1.61140855e+00 -1.19611481e-01  2.75958757e+04\n",
      " -4.32045991e-02 -1.51083721e+00 -3.03014167e+04 -4.63242146e+02\n",
      " -1.37305358e+02]\n",
      "Variance score: 0.690392292961047\n"
     ]
    },
    {
     "data": {
      "image/png": "[encoded data removed]",
      "text/plain": [
       "<Figure size 432x288 with 1 Axes>"
      ]
     },
     "metadata": {},
     "output_type": "display_data"
    }
   ],
   "source": [
    "from sklearn import datasets, linear_model, metrics\n",
    "reg = linear_model.LinearRegression()\n",
    " \n",
    "# train the model using the training sets\n",
    "reg.fit(X_train, Y_train)\n",
    " \n",
    "# regression coefficients\n",
    "print('Coefficients: ', reg.coef_)\n",
    " \n",
    "# variance score: 1 means perfect prediction\n",
    "print('Variance score: {}'.format(reg.score(X_test, Y_test)))\n",
    " \n",
    "# plot for residual error\n",
    " \n",
    "## setting plot style\n",
    "plt.style.use('fivethirtyeight')\n",
    " \n",
    "## plotting residual errors in training data\n",
    "plt.scatter(reg.predict(X_train), reg.predict(X_train) - Y_train,\n",
    "            color = \"green\", s = 10, label = 'Train data')\n",
    " \n",
    "## plotting residual errors in test data\n",
    "# plt.scatter(reg.predict(X_test), reg.predict(X_test) - Y_test,\n",
    "#            color = \"blue\", s = 10, label = 'Test data')\n",
    " \n",
    "## plotting line for zero residual error\n",
    "plt.hlines(y = 0, xmin = 0, xmax = 50, linewidth = 2)\n",
    " \n",
    "## plotting legend\n",
    "plt.legend(loc = 'upper right')\n",
    " \n",
    "## plot title\n",
    "plt.title(\"Residual errors\")\n",
    " \n",
    "## method call for showing the plot\n",
    "plt.show()"
   ]
  },
  {
   "cell_type": "markdown",
   "id": "8f8306ca",
   "metadata": {},
   "source": [
    "## Random forest model fitting"
   ]
  },
  {
   "cell_type": "code",
   "execution_count": 55,
   "id": "a40dff66",
   "metadata": {},
   "outputs": [
    {
     "data": {
      "text/plain": [
       "RandomForestRegressor(random_state=0)"
      ]
     },
     "execution_count": 55,
     "metadata": {},
     "output_type": "execute_result"
    }
   ],
   "source": [
    "from sklearn.ensemble import RandomForestRegressor\n",
    " \n",
    " # create regressor object\n",
    "regressor = RandomForestRegressor(n_estimators = 100, random_state = 0)\n",
    " \n",
    "# fit the regressor with x and y data\n",
    "regressor.fit(X_train, Y_train) "
   ]
  },
  {
   "cell_type": "code",
   "execution_count": 56,
   "id": "be9fb089",
   "metadata": {},
   "outputs": [],
   "source": [
    "Y_pred = regressor.predict(np.array(X_test)) # test the output by changing values\n"
   ]
  },
  {
   "cell_type": "markdown",
   "id": "6bf5b073",
   "metadata": {},
   "source": [
    "Accuracy for the Random forest "
   ]
  },
  {
   "cell_type": "code",
   "execution_count": 57,
   "id": "f460eecd",
   "metadata": {},
   "outputs": [
    {
     "data": {
      "text/plain": [
       "0.9855784606815402"
      ]
     },
     "execution_count": 57,
     "metadata": {},
     "output_type": "execute_result"
    }
   ],
   "source": [
    "regressor.score(X_test,Y_test)\n"
   ]
  },
  {
   "cell_type": "code",
   "execution_count": null,
   "id": "ef2e2c63",
   "metadata": {},
   "outputs": [],
   "source": []
  }
 ],
 "metadata": {
  "kernelspec": {
   "display_name": "Python 3 (ipykernel)",
   "language": "python",
   "name": "python3"
  },
  "language_info": {
   "codemirror_mode": {
    "name": "ipython",
    "version": 3
   },
   "file_extension": ".py",
   "mimetype": "text/x-python",
   "name": "python",
   "nbconvert_exporter": "python",
   "pygments_lexer": "ipython3",
   "version": "3.9.7"
  }
 },
 "nbformat": 4,
 "nbformat_minor": 5
}
